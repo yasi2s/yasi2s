{
  "nbformat": 4,
  "nbformat_minor": 0,
  "metadata": {
    "colab": {
      "name": "お菓子の計算.ipynb",
      "provenance": [],
      "authorship_tag": "ABX9TyMyPbAVdEdaNK9v7xRKRU2y",
      "include_colab_link": true
    },
    "kernelspec": {
      "name": "python3",
      "display_name": "Python 3"
    }
  },
  "cells": [
    {
      "cell_type": "markdown",
      "metadata": {
        "id": "view-in-github",
        "colab_type": "text"
      },
      "source": [
        "<a href=\"https://colab.research.google.com/github/yasi2s/yasi2s/blob/main/%E3%81%8A%E8%8F%93%E5%AD%90%E3%81%AE%E8%A8%88%E7%AE%97.ipynb\" target=\"_parent\"><img src=\"https://colab.research.google.com/assets/colab-badge.svg\" alt=\"Open In Colab\"/></a>"
      ]
    },
    {
      "cell_type": "code",
      "metadata": {
        "id": "VJTDjiJvqgcj"
      },
      "source": [
        "a  = input(\"お菓子の量\") #元々あったお菓子の数を入力"
      ],
      "execution_count": null,
      "outputs": []
    },
    {
      "cell_type": "code",
      "metadata": {
        "id": "YzbHLByJtSB5"
      },
      "source": [
        "a = int (a)"
      ],
      "execution_count": null,
      "outputs": []
    },
    {
      "cell_type": "code",
      "metadata": {
        "id": "qSwh_VnsuLSu"
      },
      "source": [
        "ate = input(\"食べ終わったお菓子の量\") #食べ終わっているお菓子の数を入力"
      ],
      "execution_count": null,
      "outputs": []
    },
    {
      "cell_type": "code",
      "metadata": {
        "id": "Y8Sroo8luSIZ"
      },
      "source": [
        "ate = int (ate)"
      ],
      "execution_count": null,
      "outputs": []
    },
    {
      "cell_type": "code",
      "metadata": {
        "id": "JKaQfcd4v2XZ"
      },
      "source": [
        "f_res = a - ate"
      ],
      "execution_count": null,
      "outputs": []
    },
    {
      "cell_type": "code",
      "metadata": {
        "id": "sSWWUO3lxDEz"
      },
      "source": [
        "print(\"現在のお菓子の数は\",f_res,\"個です。\")"
      ],
      "execution_count": null,
      "outputs": []
    }
  ]
}